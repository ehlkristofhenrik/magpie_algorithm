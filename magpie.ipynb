{
 "cells": [
  {
   "attachments": {},
   "cell_type": "markdown",
   "metadata": {},
   "source": [
    "# **The Magpie algorithm**\n",
    "> Copyright(C) Christopher Ehl - 17th of March 2023\n"
   ]
  },
  {
   "attachments": {},
   "cell_type": "markdown",
   "metadata": {},
   "source": [
    "The magpie algorithm is a destructive implementation of linear regression. Unlike Gradient Descent $^{[1]}$ the magpie algorithm uses N-dimensional vectors. The major selling point of the algorithm is the way it handles outliers. Outliers are discriminated and have very little effect on the rest of the calculations. Where other manual methods fail the magpie algorithm shines. With the good set of hyperparameters the algorithm can give a best fit line without fear of overfitting.\n",
    "\n",
    "---\n",
    "\n",
    "### Specifications\n",
    "\n",
    "The runtime complexity of the algorithm is $ O(kN) $ for k iterations. The space complexity of the algorithm is $ O(N) $ *( for weight storage )*.\n",
    "\n",
    "---\n",
    "\n",
    "### Theory\n",
    "\n",
    "Steps:\n",
    "\n",
    "1. Read in data.\n",
    "2. Split data into 2 parts.\n",
    "3. Do the algorithm on both.\n",
    "4. Extract line from the 2 remaining points.\n",
    "\n",
    "Algorithm:\n",
    "\n",
    "1. Sum up the vectors and weights.\n",
    "2. Each vector will be updated by the formulae $ \\sum_{i}^N \\alpha \\frac {v_j-v_i} {|v_j-v_i|} \\frac {w_j} {w_i}$.\n",
    "3. After each iteration, remove one of the points close to the other.\n",
    "\n",
    "---\n",
    "\n",
    "### Intuition\n",
    "\n",
    "The algorithm is based on the law of gravitation $^{[2]}$. We treat every datapoint as a physical object and we simulate gravitational attraction between them. Since there is no velocity involved, they converge to one singularity."
   ]
  },
  {
   "attachments": {},
   "cell_type": "markdown",
   "metadata": {},
   "source": [
    "## The Code\n",
    "\n",
    "### Implementation\n",
    "\n",
    "For the implementation I used julia $^{[3]}$, as it is a great language for scientific computing and has a very nice API to work with.\n",
    "\n",
    "> It just works $^{TM}$"
   ]
  },
  {
   "cell_type": "code",
   "execution_count": 24,
   "metadata": {},
   "outputs": [],
   "source": [
    "# Import linear algebra library\n",
    "using LinearAlgebra"
   ]
  },
  {
   "attachments": {},
   "cell_type": "markdown",
   "metadata": {},
   "source": [
    "This implementation of ***magpie!*** is using pass by reference to make operations faster. The upgrade compared to the other implementations is that I used a very nice mathematical trick to get it run faster."
   ]
  },
  {
   "cell_type": "code",
   "execution_count": 45,
   "metadata": {},
   "outputs": [
    {
     "data": {
      "text/plain": [
       "magpie! (generic function with 2 methods)"
      ]
     },
     "metadata": {},
     "output_type": "display_data"
    }
   ],
   "source": [
    "# Magpie O(N) implementation\n",
    "function magpie!( V, W, α = 0.01 )\n",
    "\t@assert( length( V ) == length( W ) )\n",
    "\n",
    "\t# Number of data points\n",
    "\tN = length( V )\n",
    "\t# Sums of vectors and weights\n",
    "\tΣ_v, Σ_w = sum( V ), sum( W )\n",
    "\t\n",
    "\tfor i = 1:N\n",
    "\t\tV[i] +=\n",
    "\t\t\t# learning-rate\n",
    "\t\t\tα *\n",
    "\t\t\t# difference-vector\n",
    "\t\t\treplace(\n",
    "\t\t\t\tnormalize( Σ_v - V[i] * N ),\n",
    "\t\t\t\tNaN => 0.0\n",
    "\t\t\t) *\n",
    "\t\t\t# weight quotient\n",
    "\t\t\t( Σ_w / ( W[i] * N ) )\n",
    "\tend\n",
    "end"
   ]
  },
  {
   "attachments": {},
   "cell_type": "markdown",
   "metadata": {},
   "source": [
    "This is an implementation of the deletion algorithm that uses a sliding window, and does not bother with distance calculation every point."
   ]
  },
  {
   "cell_type": "code",
   "execution_count": 5,
   "metadata": {},
   "outputs": [
    {
     "data": {
      "text/plain": [
       "delete_close! (generic function with 4 methods)"
      ]
     },
     "metadata": {},
     "output_type": "display_data"
    }
   ],
   "source": [
    "# Vector merge algorithm O(kn)\n",
    "function delete_close!( V, W, β = 0.3, γ = 0.6, window_size = 1 )\n",
    "\t@assert( length( V ) == length( W ) )\n",
    "\n",
    "\t# Sliding window\n",
    "\ti = 1\n",
    "\twhile i < length( V )\n",
    "\t\t# Flag deleted items\t\t\n",
    "\t\tis_deleted = false\n",
    "\t\t# Slide the window\n",
    "\t\tfor j = i+1 : min( i+1+window_size, length( V ) )\n",
    "\t\t\t# If vectors are too close\n",
    "\t\t\tif norm( V[i] - V[j] ) <= β\n",
    "\t\t\t\t# Delete them\n",
    "\t\t\t\tis_deleted = true\n",
    "\t\t\t\tW[j] = ( W[j] + W[i] ) * γ\n",
    "\t\t\t\tdeleteat!( V, i )\n",
    "\t\t\t\tdeleteat!( W, i )\n",
    "\t\t\t\tbreak\n",
    "\t\t\tend\n",
    "\t\tend\n",
    "\t\t# Continue\n",
    "\t\tif !is_deleted\n",
    "\t\t\ti += 1\n",
    "\t\tend\n",
    "\tend\n",
    "end"
   ]
  },
  {
   "attachments": {},
   "cell_type": "markdown",
   "metadata": {},
   "source": [
    "This is a wrapper for the algorithm that loops for N epochs."
   ]
  },
  {
   "cell_type": "code",
   "execution_count": 54,
   "metadata": {},
   "outputs": [
    {
     "data": {
      "text/plain": [
       "iter_magpie! (generic function with 4 methods)"
      ]
     },
     "metadata": {},
     "output_type": "display_data"
    }
   ],
   "source": [
    "\n",
    "# Magpie wrapper function\n",
    "function iter_magpie!( epoch, V, W, α = 0.01, β = 0.3, γ = 0.5 )\n",
    "\tfor i in 0:epoch\n",
    "\t\tmagpie!( V, W, α )\n",
    "\t\tdelete_close!( V, W, β, γ )\n",
    "\tend\n",
    "end"
   ]
  },
  {
   "attachments": {},
   "cell_type": "markdown",
   "metadata": {},
   "source": [
    "This is the final result run on some artificial data."
   ]
  },
  {
   "cell_type": "code",
   "execution_count": 57,
   "metadata": {},
   "outputs": [
    {
     "data": {
      "text/plain": [
       "1-element Vector{Vector{Float64}}:\n",
       " [3.2800000000000367, 1.0]"
      ]
     },
     "metadata": {},
     "output_type": "display_data"
    }
   ],
   "source": [
    "data = [\n",
    "\t[1.0,1.0],\n",
    "\t[2.0,1.0],\n",
    "\t[3.0,1.0],\n",
    "\t[4.0,1.0],\n",
    "\t[5.0,1.0]\n",
    "]\n",
    "weight = ones( Float32, length( data ) )\n",
    "iter_magpie!( 10000, data, weight )\n",
    "data"
   ]
  },
  {
   "attachments": {},
   "cell_type": "markdown",
   "metadata": {},
   "source": [
    "---\n",
    "\n",
    "### References\n",
    "\n",
    "[1] Lemaréchal, C. (2012). \"Cauchy and the Gradient Method\" (PDF). Doc Math Extra: 251–254.\n",
    "\n",
    "[2] Krebs, Robert E. (1999). Scientific Development and Misconceptions Through the Ages: A Reference Guide (illustrated ed.). Greenwood Publishing Group. p. 133. ISBN 978-0-313-30226-8.\n",
    "\n",
    "[3] https://julialang.org/\n",
    "\n",
    "[3] \"2. Object-Oriented Programming - Beginning Julia Programming: For Engineers and Scientists [Book]\". www.oreilly.com. Retrieved 26 January 2023."
   ]
  }
 ],
 "metadata": {
  "kernelspec": {
   "display_name": "Julia 1.8.5",
   "language": "julia",
   "name": "julia-1.8"
  },
  "language_info": {
   "file_extension": ".jl",
   "mimetype": "application/julia",
   "name": "julia",
   "version": "1.8.5"
  },
  "orig_nbformat": 4
 },
 "nbformat": 4,
 "nbformat_minor": 2
}
